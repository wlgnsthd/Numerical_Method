{
 "cells": [
  {
   "cell_type": "code",
   "execution_count": 2,
   "metadata": {},
   "outputs": [
    {
     "data": {
      "text/latex": [
       "$\\displaystyle i x e^{- \\frac{x^{2}}{2}} \\operatorname{erf}{\\left(\\frac{\\sqrt{2} i x}{2} \\right)} + \\frac{\\sqrt{2}}{\\sqrt{\\pi}}$"
      ],
      "text/plain": [
       "I*x*exp(-x**2/2)*erf(sqrt(2)*I*x/2) + sqrt(2)/sqrt(pi)"
      ]
     },
     "execution_count": 2,
     "metadata": {},
     "output_type": "execute_result"
    },
    {
     "data": {
      "text/latex": [
       "$\\displaystyle x e^{- \\frac{x^{2}}{2}}$"
      ],
      "text/plain": [
       "x*exp(-x**2/2)"
      ]
     },
     "execution_count": 2,
     "metadata": {},
     "output_type": "execute_result"
    }
   ],
   "source": [
    "#####Fourier inverse transform 적분구간 잘 설정하기!!!\n",
    "from IPython.core.interactiveshell import InteractiveShell\n",
    "InteractiveShell.ast_node_interactivity = \"all\"\n",
    "import sympy\n",
    "from sympy import *\n",
    "x,w = symbols('x w')\n",
    "\n",
    "fw = w*exp(-w**2/2) #함수 결정!!\n",
    "\n",
    "fxc = integrate(fw*cos(w*x)*sqrt(2/pi),(w,0,oo))\n",
    "fxs = integrate(fw*sin(w*x)*sqrt(2/pi),(w,0,oo))\n",
    "\n",
    "simplify(fxc)###fourier cosine transform\n",
    "simplify(fxs)###fourier sine transform"
   ]
  },
  {
   "cell_type": "code",
   "execution_count": null,
   "metadata": {},
   "outputs": [],
   "source": []
  }
 ],
 "metadata": {
  "kernelspec": {
   "display_name": "Python 3",
   "language": "python",
   "name": "python3"
  },
  "language_info": {
   "codemirror_mode": {
    "name": "ipython",
    "version": 3
   },
   "file_extension": ".py",
   "mimetype": "text/x-python",
   "name": "python",
   "nbconvert_exporter": "python",
   "pygments_lexer": "ipython3",
   "version": "3.8.6"
  }
 },
 "nbformat": 4,
 "nbformat_minor": 4
}
