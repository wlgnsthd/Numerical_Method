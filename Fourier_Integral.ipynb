{
 "cells": [
  {
   "cell_type": "code",
   "execution_count": 2,
   "metadata": {},
   "outputs": [
    {
     "data": {
      "text/latex": [
       "$\\displaystyle \\frac{e^{- \\frac{w^{2}}{4}}}{\\sqrt{\\pi}}$"
      ],
      "text/plain": [
       "exp(-w**2/4)/sqrt(pi)"
      ]
     },
     "execution_count": 2,
     "metadata": {},
     "output_type": "execute_result"
    },
    {
     "data": {
      "text/latex": [
       "$\\displaystyle 0$"
      ],
      "text/plain": [
       "0"
      ]
     },
     "execution_count": 2,
     "metadata": {},
     "output_type": "execute_result"
    },
    {
     "data": {
      "text/latex": [
       "$\\displaystyle e^{- x^{2}}$"
      ],
      "text/plain": [
       "exp(-x**2)"
      ]
     },
     "execution_count": 2,
     "metadata": {},
     "output_type": "execute_result"
    }
   ],
   "source": [
    "#####Fourier Integral 적분구간 잘 설정하기!!!\n",
    "from IPython.core.interactiveshell import InteractiveShell\n",
    "InteractiveShell.ast_node_interactivity = \"all\"\n",
    "import sympy\n",
    "from sympy import *\n",
    "x,w = symbols('x w')\n",
    "A2 = 0\n",
    "A3 = 0 \n",
    "B2 = 0\n",
    "B3 = 0\n",
    "\n",
    "f1=exp(-x**2) #함수 결정!!\n",
    "x1=(x,-oo,oo)#정의역 결정!!\n",
    "# f2=? #함수 결정!!\n",
    "# x2=(x,-0.5,0)#정의역 결정!!\n",
    "# f3=? #함수 결정!!\n",
    "# x3=(x,-0.5,0)#정의역 결정!!\n",
    "\n",
    "A1 = integrate(f1*cos(w*x)/pi,x1)\n",
    "B1 = integrate(f1*sin(w*x)/pi,x1)  \n",
    "#A2 = integrate(f2*cos(w*x)/pi,x2) \n",
    "#B2 = integrate(f2*sin(w*x)/pi,x2) \n",
    "#A3 = integrate(f3*cos(w*x)/pi,x3) \n",
    "#B3 = integrate(f2*sin(w*x)/pi,x3) \n",
    "\n",
    "Af = A1+ A2 +A3\n",
    "Bf = B1 + B2 + B3\n",
    "ff=integrate(Af*cos(w*x)+Bf*sin(w*x),(w,0,oo))  #f(x)\n",
    "\n",
    "simplify(Af)###A\n",
    "simplify(Bf)###B\n",
    "simplify(ff)###f"
   ]
  },
  {
   "cell_type": "code",
   "execution_count": null,
   "metadata": {},
   "outputs": [],
   "source": []
  }
 ],
 "metadata": {
  "kernelspec": {
   "display_name": "Python 3",
   "language": "python",
   "name": "python3"
  },
  "language_info": {
   "codemirror_mode": {
    "name": "ipython",
    "version": 3
   },
   "file_extension": ".py",
   "mimetype": "text/x-python",
   "name": "python",
   "nbconvert_exporter": "python",
   "pygments_lexer": "ipython3",
   "version": "3.8.6"
  }
 },
 "nbformat": 4,
 "nbformat_minor": 4
}
