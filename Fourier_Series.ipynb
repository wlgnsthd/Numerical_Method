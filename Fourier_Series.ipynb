{
 "cells": [
  {
   "cell_type": "code",
   "execution_count": 4,
   "metadata": {},
   "outputs": [
    {
     "data": {
      "text/latex": [
       "$\\displaystyle \\frac{\\pi}{4}$"
      ],
      "text/plain": [
       "pi/4"
      ]
     },
     "execution_count": 4,
     "metadata": {},
     "output_type": "execute_result"
    },
    {
     "data": {
      "text/latex": [
       "$\\displaystyle \\begin{cases} \\frac{\\pi n \\sin{\\left(\\pi n \\right)} + \\cos{\\left(\\pi n \\right)} - 1}{\\pi n^{2}} & \\text{for}\\: n > -\\infty \\wedge n < \\infty \\wedge n \\neq 0 \\\\\\frac{\\pi}{2} & \\text{otherwise} \\end{cases}$"
      ],
      "text/plain": [
       "Piecewise(((pi*n*sin(pi*n) + cos(pi*n) - 1)/(pi*n**2), (n > -oo) & (n < oo) & Ne(n, 0)), (pi/2, True))"
      ]
     },
     "execution_count": 4,
     "metadata": {},
     "output_type": "execute_result"
    },
    {
     "data": {
      "text/latex": [
       "$\\displaystyle \\begin{cases} \\frac{\\cos{\\left(\\pi n \\right)}}{n} - \\frac{\\sin{\\left(\\pi n \\right)}}{\\pi n^{2}} & \\text{for}\\: n > -\\infty \\wedge n < \\infty \\wedge n \\neq 0 \\\\0 & \\text{otherwise} \\end{cases}$"
      ],
      "text/plain": [
       "Piecewise((cos(pi*n)/n - sin(pi*n)/(pi*n**2), (n > -oo) & (n < oo) & Ne(n, 0)), (0, True))"
      ]
     },
     "execution_count": 4,
     "metadata": {},
     "output_type": "execute_result"
    }
   ],
   "source": [
    "#####주기2pi인 함수 Fourier Series\n",
    "from IPython.core.interactiveshell import InteractiveShell\n",
    "InteractiveShell.ast_node_interactivity = \"all\"\n",
    "import sympy\n",
    "from sympy import *\n",
    "x,n = symbols('x n')\n",
    "f2a0=0 \n",
    "f2an=0\n",
    "f2bn=0\n",
    "f3a0=0\n",
    "f3an=0\n",
    "f3bn=0\n",
    "f4a0=0\n",
    "f4an=0\n",
    "f4bn=0\n",
    "    \n",
    "f1=-x #함수 결정!!\n",
    "x1=(x,-pi,0)#범위 결정!!\n",
    "f2=x #함수 결정!!\n",
    "x2=(x,0,pi)#범위 결정!!\n",
    "# f3=2 #함수 결정!!\n",
    "# x3=(x,0,pi/2)#범위 결정!!\n",
    "# f4=1 #함수 결정!!\n",
    "# x4=(x,pi/2,pi)#범위 결정!!\n",
    "\n",
    "f1a0=integrate(f1 /(2*pi),x1) \n",
    "f1an=integrate(f1*cos(n*x) /(pi) ,x1)\n",
    "f1bn=integrate(f1*sin(n*x) /(pi),x1) \n",
    "# f2a0=integrate(f2 /(2*pi),x2) \n",
    "# f2an=integrate(f2*cos(n*x) /(pi),x2)\n",
    "# f2bn=integrate(f2*sin(n*x) /(pi),x2) \n",
    "# f3a0=integrate(f3 /(2*pi),x2) \n",
    "# f3an=integrate(f3*cos(n*x) /(pi),x3)\n",
    "# f3bn=integrate(f3*sin(n*x) /(pi),x3) \n",
    "# f4a0=integrate(f4 /(2*pi),x4) \n",
    "# f4an=integrate(f4*cos(n*x) /(pi),x4)\n",
    "# f4bn=integrate(f4*sin(n*x) /(pi),x4) \n",
    "\n",
    "\n",
    "simplify(f1a0+f2a0+f3a0+f4a0)###a0\n",
    "simplify(f1an+f2an+f3an+f4an)###an\n",
    "simplify(f1bn+f2bn+f3bn+f4bn)###bn"
   ]
  },
  {
   "cell_type": "code",
   "execution_count": null,
   "metadata": {},
   "outputs": [],
   "source": []
  },
  {
   "cell_type": "code",
   "execution_count": null,
   "metadata": {},
   "outputs": [],
   "source": []
  }
 ],
 "metadata": {
  "kernelspec": {
   "display_name": "Python 3",
   "language": "python",
   "name": "python3"
  },
  "language_info": {
   "codemirror_mode": {
    "name": "ipython",
    "version": 3
   },
   "file_extension": ".py",
   "mimetype": "text/x-python",
   "name": "python",
   "nbconvert_exporter": "python",
   "pygments_lexer": "ipython3",
   "version": "3.8.6"
  }
 },
 "nbformat": 4,
 "nbformat_minor": 4
}
