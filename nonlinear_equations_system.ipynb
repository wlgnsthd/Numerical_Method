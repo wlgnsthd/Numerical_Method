{
 "cells": [
  {
   "cell_type": "code",
   "execution_count": 16,
   "metadata": {},
   "outputs": [
    {
     "data": {
      "text/latex": [
       "$\\displaystyle \\left[\\begin{matrix}x_{2} + \\log{\\left(x_{1}^{2} + x_{2} \\right)} - 1\\\\\\sqrt{x_{1}} + x_{1} x_{2}^{2}\\end{matrix}\\right]$"
      ],
      "text/plain": [
       "Matrix([\n",
       "[x2 + log(x1**2 + x2) - 1],\n",
       "[     sqrt(x1) + x1*x2**2]])"
      ]
     },
     "execution_count": 16,
     "metadata": {},
     "output_type": "execute_result"
    },
    {
     "data": {
      "text/latex": [
       "$\\displaystyle \\left[\\begin{matrix}\\frac{2 x_{1}}{x_{1}^{2} + x_{2}} & 1 + \\frac{1}{x_{1}^{2} + x_{2}}\\\\x_{2}^{2} + \\frac{1}{2 \\sqrt{x_{1}}} & 2 x_{1} x_{2}\\end{matrix}\\right]$"
      ],
      "text/plain": [
       "Matrix([\n",
       "[     2*x1/(x1**2 + x2), 1 + 1/(x1**2 + x2)],\n",
       "[x2**2 + 1/(2*sqrt(x1)),            2*x1*x2]])"
      ]
     },
     "execution_count": 16,
     "metadata": {},
     "output_type": "execute_result"
    },
    {
     "data": {
      "text/latex": [
       "$\\displaystyle \\left[\\begin{matrix}0.930232558139535 & 1.1937984496124\\\\0.682748612183951 & -2.88\\end{matrix}\\right]$"
      ],
      "text/plain": [
       "Matrix([\n",
       "[0.930232558139535, 1.1937984496124],\n",
       "[0.682748612183951,           -2.88]])"
      ]
     },
     "execution_count": 16,
     "metadata": {},
     "output_type": "execute_result"
    },
    {
     "data": {
      "text/latex": [
       "$\\displaystyle \\left[\\begin{matrix}-0.0409365794934713\\\\-2.41319333848297\\end{matrix}\\right]$"
      ],
      "text/plain": [
       "Matrix([\n",
       "[-0.0409365794934713],\n",
       "[  -2.41319333848297]])"
      ]
     },
     "execution_count": 16,
     "metadata": {},
     "output_type": "execute_result"
    },
    {
     "data": {
      "text/plain": [
       "-0.8582280511276174"
      ]
     },
     "execution_count": 16,
     "metadata": {},
     "output_type": "execute_result"
    },
    {
     "data": {
      "text/plain": [
       "0.6344580998743932"
      ]
     },
     "execution_count": 16,
     "metadata": {},
     "output_type": "execute_result"
    }
   ],
   "source": [
    "from IPython.core.interactiveshell import InteractiveShell\n",
    "InteractiveShell.ast_node_interactivity = \"all\"\n",
    "import sympy\n",
    "from sympy import *\n",
    "\n",
    "x1, x2, x3, dtx1, dtx2, dtx3 = symbols('x1 x2 x3 dtx1 dtx2 dtx3')\n",
    "\n",
    "X0=(2.4, -0.6)##x1,x2,x3초기값 수정 계속 수정\n",
    "F = Matrix([ln(x1**2+x2)+x2-1,sqrt(x1)+x1*x2**2])##F함수 수정\n",
    "F\n",
    "XY = Matrix([x1,x2])#수정\n",
    "D = Matrix([dtx1,dtx2]) #수정\n",
    "\n",
    "J0=F.jacobian(XY)\n",
    "J0 ###Jacobian\n",
    "S1=J0.subs({\"x1\":X0[0],\"x2\":X0[1]})*D+F.subs({\"x1\":X0[0],\"x2\":X0[1]})\n",
    "J0.subs({\"x1\":X0[0],\"x2\":X0[1]}) ##Matrix\n",
    "-F.subs({\"x1\":X0[0],\"x2\":X0[1]})###Augmented\n",
    "\n",
    "float(solve(S1)[dtx1])###dtx1\n",
    "float(solve(S1)[dtx2])###dtx2"
   ]
  },
  {
   "cell_type": "code",
   "execution_count": null,
   "metadata": {},
   "outputs": [],
   "source": []
  }
 ],
 "metadata": {
  "kernelspec": {
   "display_name": "Python 3",
   "language": "python",
   "name": "python3"
  },
  "language_info": {
   "codemirror_mode": {
    "name": "ipython",
    "version": 3
   },
   "file_extension": ".py",
   "mimetype": "text/x-python",
   "name": "python",
   "nbconvert_exporter": "python",
   "pygments_lexer": "ipython3",
   "version": "3.8.6"
  }
 },
 "nbformat": 4,
 "nbformat_minor": 4
}
