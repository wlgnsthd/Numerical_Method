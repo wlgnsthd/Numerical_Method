{
 "cells": [
  {
   "cell_type": "code",
   "execution_count": 2,
   "metadata": {},
   "outputs": [
    {
     "data": {
      "text/latex": [
       "$\\displaystyle 0$"
      ],
      "text/plain": [
       "0"
      ]
     },
     "execution_count": 2,
     "metadata": {},
     "output_type": "execute_result"
    },
    {
     "data": {
      "text/latex": [
       "$\\displaystyle 0$"
      ],
      "text/plain": [
       "0"
      ]
     },
     "execution_count": 2,
     "metadata": {},
     "output_type": "execute_result"
    },
    {
     "data": {
      "text/latex": [
       "$\\displaystyle 0$"
      ],
      "text/plain": [
       "0"
      ]
     },
     "execution_count": 2,
     "metadata": {},
     "output_type": "execute_result"
    }
   ],
   "source": [
    "#####주기2L인 함수 Fourier Series\n",
    "from IPython.core.interactiveshell import InteractiveShell\n",
    "InteractiveShell.ast_node_interactivity = \"all\"\n",
    "import sympy\n",
    "from sympy import *\n",
    "x,n,L = symbols('x n L')\n",
    "f2a0=0 \n",
    "f2an=0\n",
    "f2bn=0\n",
    "f3a0=0\n",
    "f3an=0\n",
    "f3bn=0\n",
    "\n",
    "L=0.5#주기 결정!!2L/2\n",
    "f1=0 #함수 결정!!\n",
    "x1=(x,-0.5,0)#범위 결정!!\n",
    "# f2=x #함수 결정!!\n",
    "# x2=(x,0,0.5)#범위 결정!!\n",
    "# # f3=0 #함수 결정!!\n",
    "# # x3=(x,pi/2,pi)#범위 결정!!\n",
    "\n",
    "\n",
    "f1a0=integrate(f1 /(2*L),x1) \n",
    "f1an=integrate(f1*cos(n*pi*x/L) /(L) ,x1)\n",
    "f1bn=integrate(f1*sin(n*pi*x/L) /(L),x1) \n",
    "# f2a0=integrate(f2 /(2*L),x2) \n",
    "# f2an=integrate(f2*cos(n*pi*x/L) /(L),x2)\n",
    "# f2bn=integrate(f2*sin(n*pi*x/L) /(L),x2) \n",
    "# f3a0=integrate(f3 /(2*L),x2) \n",
    "# f3an=integrate(f3*cos(n*pi*x/L) /(L),x3)\n",
    "# f3bn=integrate(f3*sin(n*pi*x/L) /(L),x3) \n",
    "\n",
    "simplify(f1a0+f2a0+f3a0)###a0\n",
    "simplify(f1an+f2an+f3an)###an\n",
    "simplify(f1bn+f2bn+f3bn)###bn"
   ]
  },
  {
   "cell_type": "code",
   "execution_count": null,
   "metadata": {},
   "outputs": [],
   "source": []
  },
  {
   "cell_type": "code",
   "execution_count": null,
   "metadata": {},
   "outputs": [],
   "source": []
  }
 ],
 "metadata": {
  "kernelspec": {
   "display_name": "Python 3",
   "language": "python",
   "name": "python3"
  },
  "language_info": {
   "codemirror_mode": {
    "name": "ipython",
    "version": 3
   },
   "file_extension": ".py",
   "mimetype": "text/x-python",
   "name": "python",
   "nbconvert_exporter": "python",
   "pygments_lexer": "ipython3",
   "version": "3.8.6"
  }
 },
 "nbformat": 4,
 "nbformat_minor": 4
}
